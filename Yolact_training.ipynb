{
  "nbformat": 4,
  "nbformat_minor": 0,
  "metadata": {
    "colab": {
      "name": "Deneme.ipynb",
      "provenance": [],
      "collapsed_sections": [],
      "authorship_tag": "ABX9TyOeBtQBej6GuaBL0RuiZjWG",
      "include_colab_link": true
    },
    "kernelspec": {
      "display_name": "Python 3",
      "name": "python3"
    },
    "language_info": {
      "name": "python"
    }
  },
  "cells": [
    {
      "cell_type": "markdown",
      "metadata": {
        "id": "view-in-github",
        "colab_type": "text"
      },
      "source": [
        "<a href=\"https://colab.research.google.com/github/Daymenion/Yolact-training-with-custom-dataset-in-Google-Colab/blob/main/Yolact_training.ipynb\" target=\"_parent\"><img src=\"https://colab.research.google.com/assets/colab-badge.svg\" alt=\"Open In Colab\"/></a>"
      ]
    },
    {
      "cell_type": "code",
      "metadata": {
        "colab": {
          "background_save": true,
          "base_uri": "https://localhost:8080/"
        },
        "id": "OlT7mRQIMqMk",
        "outputId": "eb823fe0-3006-4a14-8b4d-682d6f1bd448"
      },
      "source": [
        "!pip install cython\n",
        "!pip install opencv-python pillow pycocotools matplotlib"
      ],
      "execution_count": null,
      "outputs": [
        {
          "name": "stdout",
          "output_type": "stream",
          "text": [
            "Requirement already satisfied: cython in /usr/local/lib/python3.7/dist-packages (0.29.24)\n",
            "Requirement already satisfied: opencv-python in /usr/local/lib/python3.7/dist-packages (4.1.2.30)\n",
            "Requirement already satisfied: pillow in /usr/local/lib/python3.7/dist-packages (7.1.2)\n",
            "Requirement already satisfied: pycocotools in /usr/local/lib/python3.7/dist-packages (2.0.2)\n",
            "Requirement already satisfied: matplotlib in /usr/local/lib/python3.7/dist-packages (3.2.2)\n",
            "Requirement already satisfied: numpy>=1.14.5 in /usr/local/lib/python3.7/dist-packages (from opencv-python) (1.19.5)\n",
            "Requirement already satisfied: cython>=0.27.3 in /usr/local/lib/python3.7/dist-packages (from pycocotools) (0.29.24)\n",
            "Requirement already satisfied: setuptools>=18.0 in /usr/local/lib/python3.7/dist-packages (from pycocotools) (57.4.0)\n",
            "Requirement already satisfied: kiwisolver>=1.0.1 in /usr/local/lib/python3.7/dist-packages (from matplotlib) (1.3.2)\n",
            "Requirement already satisfied: cycler>=0.10 in /usr/local/lib/python3.7/dist-packages (from matplotlib) (0.10.0)\n",
            "Requirement already satisfied: pyparsing!=2.0.4,!=2.1.2,!=2.1.6,>=2.0.1 in /usr/local/lib/python3.7/dist-packages (from matplotlib) (2.4.7)\n",
            "Requirement already satisfied: python-dateutil>=2.1 in /usr/local/lib/python3.7/dist-packages (from matplotlib) (2.8.2)\n",
            "Requirement already satisfied: six in /usr/local/lib/python3.7/dist-packages (from cycler>=0.10->matplotlib) (1.15.0)\n"
          ]
        }
      ]
    },
    {
      "cell_type": "code",
      "metadata": {
        "colab": {
          "base_uri": "https://localhost:8080/"
        },
        "id": "aJPDQ4D6N_sd",
        "outputId": "54af80e7-27d2-4b15-9204-fda01c023524"
      },
      "source": [
        "!pip install torchvision==0.5.0\n",
        "#downgrade torch\n",
        "!pip install torch==1.4.0"
      ],
      "execution_count": null,
      "outputs": [
        {
          "name": "stdout",
          "output_type": "stream",
          "text": [
            "Collecting torchvision==0.5.0\n",
            "  Downloading torchvision-0.5.0-cp37-cp37m-manylinux1_x86_64.whl (4.0 MB)\n",
            "\u001b[K     |████████████████████████████████| 4.0 MB 26.9 MB/s \n",
            "\u001b[?25hCollecting torch==1.4.0\n",
            "  Downloading torch-1.4.0-cp37-cp37m-manylinux1_x86_64.whl (753.4 MB)\n",
            "\u001b[K     |████████████████████████████████| 753.4 MB 6.7 kB/s \n",
            "\u001b[?25hRequirement already satisfied: six in /usr/local/lib/python3.7/dist-packages (from torchvision==0.5.0) (1.15.0)\n",
            "Requirement already satisfied: pillow>=4.1.1 in /usr/local/lib/python3.7/dist-packages (from torchvision==0.5.0) (7.1.2)\n",
            "Requirement already satisfied: numpy in /usr/local/lib/python3.7/dist-packages (from torchvision==0.5.0) (1.19.5)\n",
            "Installing collected packages: torch, torchvision\n",
            "  Attempting uninstall: torch\n",
            "    Found existing installation: torch 1.9.0+cu111\n",
            "    Uninstalling torch-1.9.0+cu111:\n",
            "      Successfully uninstalled torch-1.9.0+cu111\n",
            "  Attempting uninstall: torchvision\n",
            "    Found existing installation: torchvision 0.10.0+cu111\n",
            "    Uninstalling torchvision-0.10.0+cu111:\n",
            "      Successfully uninstalled torchvision-0.10.0+cu111\n",
            "\u001b[31mERROR: pip's dependency resolver does not currently take into account all the packages that are installed. This behaviour is the source of the following dependency conflicts.\n",
            "torchtext 0.10.0 requires torch==1.9.0, but you have torch 1.4.0 which is incompatible.\u001b[0m\n",
            "Successfully installed torch-1.4.0 torchvision-0.5.0\n",
            "Requirement already satisfied: torch==1.4.0 in /usr/local/lib/python3.7/dist-packages (1.4.0)\n"
          ]
        }
      ]
    },
    {
      "cell_type": "code",
      "metadata": {
        "colab": {
          "base_uri": "https://localhost:8080/"
        },
        "id": "BHYZuKNTOSEw",
        "outputId": "c001d310-ecbf-4080-f450-07124162495f"
      },
      "source": [
        "%cd /content/\n",
        "\n",
        "!git clone https://github.com/dbolya/yolact.git"
      ],
      "execution_count": null,
      "outputs": [
        {
          "name": "stdout",
          "output_type": "stream",
          "text": [
            "/content\n",
            "Cloning into 'yolact'...\n",
            "remote: Enumerating objects: 2936, done.\u001b[K\n",
            "remote: Total 2936 (delta 0), reused 0 (delta 0), pack-reused 2936\u001b[K\n",
            "Receiving objects: 100% (2936/2936), 21.20 MiB | 28.12 MiB/s, done.\n",
            "Resolving deltas: 100% (2003/2003), done.\n"
          ]
        }
      ]
    },
    {
      "cell_type": "code",
      "metadata": {
        "colab": {
          "base_uri": "https://localhost:8080/"
        },
        "id": "f16ZsSt9OZDy",
        "outputId": "1545f662-8702-4827-ab90-2f2f67303328"
      },
      "source": [
        "%cd /content/yolact/external/DCNv2\n",
        "\n",
        "!python setup.py build develop"
      ],
      "execution_count": null,
      "outputs": [
        {
          "name": "stdout",
          "output_type": "stream",
          "text": [
            "/content/yolact/external/DCNv2\n",
            "No CUDA runtime is found, using CUDA_HOME='/usr/local/cuda'\n",
            "Traceback (most recent call last):\n",
            "  File \"setup.py\", line 64, in <module>\n",
            "    ext_modules=get_extensions(),\n",
            "  File \"setup.py\", line 41, in get_extensions\n",
            "    raise NotImplementedError('Cuda is not available')\n",
            "NotImplementedError: Cuda is not available\n"
          ]
        }
      ]
    },
    {
      "cell_type": "code",
      "metadata": {
        "colab": {
          "base_uri": "https://localhost:8080/"
        },
        "id": "hHcQBb6OOq19",
        "outputId": "2bade938-b7aa-4acf-c25f-6af3c1a12e57"
      },
      "source": [
        "\n",
        "from google.colab import drive\n",
        "drive.mount('/content/drive')\n",
        "!ln -s /content/drive/MyDrive/ /mydrive\n",
        "\n",
        "\n",
        "\n",
        "!cp -av /mydrive/D_glass/dataset/ /content/\n",
        "\n",
        "#!cp -av /content/drive/mydrive/D_glass/dataset/ /content/\n"
      ],
      "execution_count": null,
      "outputs": [
        {
          "name": "stdout",
          "output_type": "stream",
          "text": [
            "Mounted at /content/drive\n",
            "'/mydrive/D_glass/dataset/' -> '/content/dataset'\n",
            "'/mydrive/D_glass/dataset/train' -> '/content/dataset/train'\n",
            "'/mydrive/D_glass/dataset/train/coco_annotations.json' -> '/content/dataset/train/coco_annotations.json'\n",
            "'/mydrive/D_glass/dataset/train/images' -> '/content/dataset/train/images'\n",
            "'/mydrive/D_glass/dataset/real_test' -> '/content/dataset/real_test'\n",
            "'/mydrive/D_glass/dataset/val' -> '/content/dataset/val'\n",
            "'/mydrive/D_glass/dataset/val/images' -> '/content/dataset/val/images'\n",
            "'/mydrive/D_glass/dataset/val/coco_annotations.json' -> '/content/dataset/val/coco_annotations.json'\n"
          ]
        }
      ]
    },
    {
      "cell_type": "code",
      "metadata": {
        "colab": {
          "base_uri": "https://localhost:8080/"
        },
        "id": "oLRzsy0VT6D9",
        "outputId": "5ace8e1d-b0de-42a5-d759-63828c7519c0"
      },
      "source": [
        "%cd /content/\n",
        "\n",
        "!git clone https://github.com/chentinghao/download_google_drive.git\n",
        "\n",
        "#!mkdir -p /content/weights\n",
        "\n",
        "!python ./download_google_drive/download_gdrive.py 1tvqFPd4bJtakOlmn-uIA492g2qurRChj /content/weights/resnet101_reducedfc.pth"
      ],
      "execution_count": null,
      "outputs": [
        {
          "name": "stdout",
          "output_type": "stream",
          "text": [
            "/content\n",
            "fatal: destination path 'download_google_drive' already exists and is not an empty directory.\n",
            "163MB [00:01, 135MB/s]\n"
          ]
        }
      ]
    },
    {
      "cell_type": "code",
      "metadata": {
        "colab": {
          "base_uri": "https://localhost:8080/"
        },
        "id": "PmOOfb2HXqNV",
        "outputId": "a9f647d4-78ba-4f19-ca2e-309ebbfaf7da"
      },
      "source": [
        "%cd /content/\n",
        "\n",
        "!python ./yolact/train.py --config=yolact_resnet101_cig_butts_config --batch_size=5"
      ],
      "execution_count": null,
      "outputs": [
        {
          "name": "stdout",
          "output_type": "stream",
          "text": [
            "/content\n",
            "Scaling parameters by 0.62 to account for a batch size of 5.\n",
            "Per-GPU batch size is less than the recommended limit for batch norm. Disabling batch norm.\n",
            "loading annotations into memory...\n",
            "Done (t=0.02s)\n",
            "creating index...\n",
            "index created!\n",
            "loading annotations into memory...\n",
            "Done (t=0.00s)\n",
            "creating index...\n",
            "index created!\n",
            "Initializing weights...\n",
            "Begin training!\n",
            "\n",
            "[ 16]    6400 || B: 0.396 | C: 0.495 | M: 0.772 | S: 0.010 | I: 0.033 | T: 1.707 || ETA: 30 days, 7:56:07 || timer: 3.250\n",
            "[ 16]    6410 || B: 0.400 | C: 0.510 | M: 0.762 | S: 0.010 | I: 0.032 | T: 1.714 || ETA: 30 days, 7:55:50 || timer: 2.019\n",
            "[ 16]    6420 || B: 0.397 | C: 0.532 | M: 0.766 | S: 0.010 | I: 0.029 | T: 1.734 || ETA: 30 days, 7:57:03 || timer: 2.029\n",
            "[ 16]    6430 || B: 0.385 | C: 0.523 | M: 0.742 | S: 0.010 | I: 0.028 | T: 1.689 || ETA: 30 days, 7:59:00 || timer: 2.008\n",
            "[ 16]    6440 || B: 0.395 | C: 0.527 | M: 0.753 | S: 0.010 | I: 0.029 | T: 1.714 || ETA: 30 days, 8:02:15 || timer: 2.023\n",
            "[ 16]    6450 || B: 0.398 | C: 0.534 | M: 0.751 | S: 0.010 | I: 0.029 | T: 1.722 || ETA: 30 days, 8:04:43 || timer: 2.034\n",
            "[ 16]    6460 || B: 0.393 | C: 0.509 | M: 0.748 | S: 0.010 | I: 0.031 | T: 1.691 || ETA: 30 days, 8:07:49 || timer: 2.039\n",
            "[ 16]    6470 || B: 0.392 | C: 0.505 | M: 0.724 | S: 0.010 | I: 0.029 | T: 1.660 || ETA: 30 days, 8:10:43 || timer: 2.034\n",
            "[ 16]    6480 || B: 0.399 | C: 0.476 | M: 0.708 | S: 0.010 | I: 0.028 | T: 1.620 || ETA: 30 days, 8:10:07 || timer: 2.037\n",
            "[ 16]    6490 || B: 0.396 | C: 0.458 | M: 0.699 | S: 0.009 | I: 0.027 | T: 1.589 || ETA: 30 days, 8:12:02 || timer: 2.027\n",
            "[ 16]    6500 || B: 0.394 | C: 0.444 | M: 0.721 | S: 0.009 | I: 0.030 | T: 1.598 || ETA: 30 days, 8:14:52 || timer: 2.047\n",
            "[ 16]    6510 || B: 0.376 | C: 0.417 | M: 0.718 | S: 0.009 | I: 0.028 | T: 1.549 || ETA: 30 days, 8:15:24 || timer: 2.014\n",
            "[ 16]    6520 || B: 0.371 | C: 0.387 | M: 0.693 | S: 0.009 | I: 0.028 | T: 1.488 || ETA: 30 days, 8:17:27 || timer: 2.028\n",
            "[ 16]    6530 || B: 0.372 | C: 0.367 | M: 0.696 | S: 0.009 | I: 0.027 | T: 1.471 || ETA: 30 days, 8:18:40 || timer: 2.037\n",
            "[ 16]    6540 || B: 0.355 | C: 0.353 | M: 0.682 | S: 0.009 | I: 0.025 | T: 1.424 || ETA: 30 days, 8:20:12 || timer: 2.026\n",
            "[ 16]    6550 || B: 0.358 | C: 0.352 | M: 0.682 | S: 0.009 | I: 0.026 | T: 1.428 || ETA: 30 days, 8:20:21 || timer: 2.040\n",
            "[ 16]    6560 || B: 0.362 | C: 0.345 | M: 0.699 | S: 0.009 | I: 0.025 | T: 1.440 || ETA: 30 days, 8:22:10 || timer: 2.030\n",
            "[ 16]    6570 || B: 0.364 | C: 0.348 | M: 0.704 | S: 0.009 | I: 0.026 | T: 1.450 || ETA: 30 days, 8:24:21 || timer: 2.020\n",
            "[ 16]    6580 || B: 0.351 | C: 0.334 | M: 0.706 | S: 0.009 | I: 0.025 | T: 1.426 || ETA: 30 days, 8:26:13 || timer: 2.026\n",
            "[ 16]    6590 || B: 0.359 | C: 0.329 | M: 0.719 | S: 0.009 | I: 0.026 | T: 1.442 || ETA: 30 days, 8:24:57 || timer: 2.015\n",
            "[ 16]    6600 || B: 0.354 | C: 0.324 | M: 0.705 | S: 0.009 | I: 0.023 | T: 1.415 || ETA: 30 days, 8:01:51 || timer: 2.008\n",
            "[ 16]    6610 || B: 0.357 | C: 0.308 | M: 0.715 | S: 0.009 | I: 0.023 | T: 1.412 || ETA: 30 days, 8:04:16 || timer: 2.031\n",
            "[ 16]    6620 || B: 0.363 | C: 0.320 | M: 0.727 | S: 0.008 | I: 0.023 | T: 1.441 || ETA: 30 days, 8:06:48 || timer: 2.028\n",
            "[ 16]    6630 || B: 0.362 | C: 0.335 | M: 0.731 | S: 0.008 | I: 0.023 | T: 1.460 || ETA: 30 days, 8:11:16 || timer: 2.025\n",
            "[ 16]    6640 || B: 0.371 | C: 0.371 | M: 0.735 | S: 0.008 | I: 0.023 | T: 1.509 || ETA: 30 days, 8:13:10 || timer: 2.018\n",
            "[ 16]    6650 || B: 0.364 | C: 0.384 | M: 0.733 | S: 0.009 | I: 0.020 | T: 1.510 || ETA: 30 days, 8:12:08 || timer: 2.020\n",
            "[ 16]    6660 || B: 0.368 | C: 0.411 | M: 0.715 | S: 0.008 | I: 0.019 | T: 1.522 || ETA: 30 days, 8:09:38 || timer: 2.013\n",
            "[ 16]    6670 || B: 0.367 | C: 0.415 | M: 0.728 | S: 0.009 | I: 0.020 | T: 1.539 || ETA: 30 days, 8:09:35 || timer: 2.015\n",
            "[ 16]    6680 || B: 0.361 | C: 0.415 | M: 0.723 | S: 0.009 | I: 0.020 | T: 1.529 || ETA: 30 days, 8:09:21 || timer: 2.015\n",
            "[ 16]    6690 || B: 0.362 | C: 0.428 | M: 0.712 | S: 0.009 | I: 0.020 | T: 1.531 || ETA: 30 days, 8:10:01 || timer: 1.992\n",
            "[ 16]    6700 || B: 0.358 | C: 0.438 | M: 0.700 | S: 0.009 | I: 0.019 | T: 1.525 || ETA: 30 days, 8:10:57 || timer: 2.013\n",
            "[ 16]    6710 || B: 0.356 | C: 0.447 | M: 0.684 | S: 0.010 | I: 0.019 | T: 1.516 || ETA: 30 days, 8:11:09 || timer: 2.033\n",
            "[ 16]    6720 || B: 0.352 | C: 0.443 | M: 0.668 | S: 0.010 | I: 0.018 | T: 1.491 || ETA: 30 days, 8:10:21 || timer: 2.029\n",
            "[ 16]    6730 || B: 0.352 | C: 0.438 | M: 0.669 | S: 0.010 | I: 0.018 | T: 1.487 || ETA: 30 days, 8:11:52 || timer: 2.034\n",
            "[ 16]    6740 || B: 0.347 | C: 0.400 | M: 0.658 | S: 0.010 | I: 0.017 | T: 1.432 || ETA: 30 days, 8:14:21 || timer: 2.030\n",
            "[ 16]    6750 || B: 0.357 | C: 0.384 | M: 0.667 | S: 0.010 | I: 0.021 | T: 1.439 || ETA: 30 days, 8:17:36 || timer: 2.043\n",
            "[ 16]    6760 || B: 0.341 | C: 0.362 | M: 0.680 | S: 0.010 | I: 0.021 | T: 1.414 || ETA: 30 days, 8:20:27 || timer: 2.016\n",
            "[ 16]    6770 || B: 0.337 | C: 0.350 | M: 0.663 | S: 0.010 | I: 0.019 | T: 1.380 || ETA: 30 days, 8:22:35 || timer: 2.013\n",
            "[ 16]    6780 || B: 0.343 | C: 0.344 | M: 0.670 | S: 0.010 | I: 0.019 | T: 1.387 || ETA: 30 days, 8:24:01 || timer: 2.039\n",
            "[ 16]    6790 || B: 0.346 | C: 0.336 | M: 0.672 | S: 0.010 | I: 0.022 | T: 1.386 || ETA: 30 days, 8:25:24 || timer: 2.008\n",
            "\n",
            "Computing validation mAP (this may take a while)...\n",
            "\n",
            "\n",
            "Calculating mAP...\n",
            "\n",
            "       |  all  |  .50  |  .55  |  .60  |  .65  |  .70  |  .75  |  .80  |  .85  |  .90  |  .95  |\n",
            "-------+-------+-------+-------+-------+-------+-------+-------+-------+-------+-------+-------+\n",
            "   box |  9.92 | 12.50 | 12.50 | 12.50 | 12.50 | 12.50 | 12.36 | 12.10 |  9.27 |  2.89 |  0.06 |\n",
            "  mask | 10.62 | 12.50 | 12.50 | 12.50 | 12.50 | 12.50 | 12.50 | 12.37 | 11.48 |  7.15 |  0.22 |\n",
            "-------+-------+-------+-------+-------+-------+-------+-------+-------+-------+-------+-------+\n",
            "[ 17]    6800 || B: 0.348 | C: 0.317 | M: 0.669 | S: 0.010 | I: 0.023 | T: 1.367 || ETA: 30 days, 20:50:56 || timer: 37.030\n",
            "[ 17]    6810 || B: 0.345 | C: 0.312 | M: 0.666 | S: 0.009 | I: 0.023 | T: 1.356 || ETA: 30 days, 20:53:04 || timer: 2.004\n",
            "[ 17]    6820 || B: 0.344 | C: 0.306 | M: 0.678 | S: 0.009 | I: 0.023 | T: 1.360 || ETA: 30 days, 20:52:31 || timer: 2.029\n",
            "[ 17]    6830 || B: 0.339 | C: 0.291 | M: 0.664 | S: 0.009 | I: 0.023 | T: 1.326 || ETA: 30 days, 20:55:17 || timer: 2.041\n",
            "[ 17]    6840 || B: 0.333 | C: 0.286 | M: 0.664 | S: 0.009 | I: 0.023 | T: 1.315 || ETA: 30 days, 20:55:54 || timer: 2.042\n",
            "[ 17]    6850 || B: 0.314 | C: 0.260 | M: 0.645 | S: 0.008 | I: 0.019 | T: 1.246 || ETA: 30 days, 20:56:45 || timer: 2.022\n",
            "[ 17]    6860 || B: 0.320 | C: 0.247 | M: 0.630 | S: 0.008 | I: 0.018 | T: 1.225 || ETA: 30 days, 20:58:11 || timer: 2.037\n",
            "[ 17]    6870 || B: 0.325 | C: 0.252 | M: 0.628 | S: 0.008 | I: 0.018 | T: 1.232 || ETA: 30 days, 20:58:39 || timer: 2.048\n",
            "[ 17]    6880 || B: 0.317 | C: 0.248 | M: 0.615 | S: 0.008 | I: 0.018 | T: 1.207 || ETA: 30 days, 21:01:37 || timer: 2.024\n",
            "[ 17]    6890 || B: 0.308 | C: 0.241 | M: 0.613 | S: 0.008 | I: 0.016 | T: 1.186 || ETA: 30 days, 21:02:56 || timer: 2.025\n",
            "[ 17]    6900 || B: 0.304 | C: 0.241 | M: 0.617 | S: 0.008 | I: 0.017 | T: 1.187 || ETA: 30 days, 21:04:13 || timer: 2.011\n",
            "[ 17]    6910 || B: 0.316 | C: 0.249 | M: 0.635 | S: 0.008 | I: 0.017 | T: 1.225 || ETA: 30 days, 21:04:49 || timer: 2.038\n",
            "[ 17]    6920 || B: 0.324 | C: 0.256 | M: 0.630 | S: 0.008 | I: 0.016 | T: 1.235 || ETA: 30 days, 21:04:47 || timer: 2.010\n",
            "[ 17]    6930 || B: 0.337 | C: 0.275 | M: 0.643 | S: 0.008 | I: 0.017 | T: 1.281 || ETA: 30 days, 21:02:25 || timer: 2.019\n",
            "[ 17]    6940 || B: 0.350 | C: 0.290 | M: 0.654 | S: 0.008 | I: 0.017 | T: 1.319 || ETA: 30 days, 21:01:18 || timer: 2.025\n",
            "[ 17]    6950 || B: 0.361 | C: 0.312 | M: 0.670 | S: 0.008 | I: 0.018 | T: 1.370 || ETA: 30 days, 20:58:28 || timer: 2.008\n",
            "[ 17]    6960 || B: 0.360 | C: 0.340 | M: 0.676 | S: 0.008 | I: 0.019 | T: 1.403 || ETA: 30 days, 20:56:33 || timer: 2.007\n",
            "[ 17]    6970 || B: 0.354 | C: 0.350 | M: 0.696 | S: 0.008 | I: 0.020 | T: 1.430 || ETA: 30 days, 20:55:17 || timer: 2.025\n",
            "[ 17]    6980 || B: 0.355 | C: 0.360 | M: 0.708 | S: 0.009 | I: 0.022 | T: 1.454 || ETA: 30 days, 20:52:46 || timer: 2.026\n",
            "[ 17]    6990 || B: 0.351 | C: 0.374 | M: 0.710 | S: 0.008 | I: 0.022 | T: 1.465 || ETA: 30 days, 20:51:12 || timer: 2.021\n",
            "[ 17]    7000 || B: 0.348 | C: 0.382 | M: 0.713 | S: 0.008 | I: 0.019 | T: 1.471 || ETA: 30 days, 8:15:18 || timer: 2.016\n",
            "[ 17]    7010 || B: 0.356 | C: 0.398 | M: 0.699 | S: 0.008 | I: 0.019 | T: 1.480 || ETA: 30 days, 8:13:35 || timer: 2.014\n",
            "[ 17]    7020 || B: 0.348 | C: 0.384 | M: 0.705 | S: 0.008 | I: 0.019 | T: 1.464 || ETA: 30 days, 8:13:15 || timer: 2.001\n",
            "[ 17]    7030 || B: 0.339 | C: 0.377 | M: 0.710 | S: 0.008 | I: 0.019 | T: 1.453 || ETA: 30 days, 8:11:14 || timer: 2.020\n",
            "[ 17]    7040 || B: 0.339 | C: 0.388 | M: 0.699 | S: 0.008 | I: 0.019 | T: 1.453 || ETA: 30 days, 8:07:42 || timer: 2.013\n"
          ]
        }
      ]
    },
    {
      "cell_type": "code",
      "metadata": {
        "id": "nV3gzQTKxFsn"
      },
      "source": [
        "# Resume training yolact_base with a specific weight file and start from the iteration specified in the weight file's name.\n",
        "!python ./yolact/train.py --config=yolact_resnet101_cig_butts_config --batch_size=5 --resume=weights/yolact_base_10_32100.pth --start_iter=-1"
      ],
      "execution_count": null,
      "outputs": []
    },
    {
      "cell_type": "code",
      "metadata": {
        "id": "TrKMeA-pjc6U"
      },
      "source": [
        "%cd /content/\n",
        "\n",
        "!rm /content/output_images -r\n",
        "\n",
        "!mkdir -p /content/output_images\n",
        "\n",
        "!python ./yolact/eval.py --train_model = ./yolact/weights/'trained weights' --config=yolact_plus_base_custom_config --score_threshold=0.15 --top_k=15 --images=/content/dataset/test_images::/content/output_images"
      ],
      "execution_count": null,
      "outputs": []
    },
    {
      "cell_type": "code",
      "metadata": {
        "id": "78c1LO2QksP-"
      },
      "source": [
        ""
      ],
      "execution_count": null,
      "outputs": []
    },
    {
      "cell_type": "code",
      "metadata": {
        "id": "rsRd8aodksf1"
      },
      "source": [
        ""
      ],
      "execution_count": null,
      "outputs": []
    },
    {
      "cell_type": "code",
      "metadata": {
        "id": "3v3sLishkswF"
      },
      "source": [
        ""
      ],
      "execution_count": null,
      "outputs": []
    }
  ]
}
